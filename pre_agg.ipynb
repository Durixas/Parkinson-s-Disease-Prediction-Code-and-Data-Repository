{
  "nbformat": 4,
  "nbformat_minor": 0,
  "metadata": {
    "colab": {
      "provenance": [],
      "include_colab_link": true
    },
    "kernelspec": {
      "name": "python3",
      "display_name": "Python 3"
    },
    "language_info": {
      "name": "python"
    }
  },
  "cells": [
    {
      "cell_type": "markdown",
      "metadata": {
        "id": "view-in-github",
        "colab_type": "text"
      },
      "source": [
        "<a href=\"https://colab.research.google.com/github/Durixas/Parkinson-s-Disease-Prediction-Code-and-Data-Repository/blob/main/pre_agg.ipynb\" target=\"_parent\"><img src=\"https://colab.research.google.com/assets/colab-badge.svg\" alt=\"Open In Colab\"/></a>"
      ]
    },
    {
      "cell_type": "code",
      "execution_count": null,
      "metadata": {
        "id": "-h40Jyn6l7mH",
        "colab": {
          "base_uri": "https://localhost:8080/"
        },
        "outputId": "eae71d80-fae4-4586-f8bc-9b204b2d98ba"
      },
      "outputs": [
        {
          "output_type": "stream",
          "name": "stderr",
          "text": [
            "/usr/local/lib/python3.10/dist-packages/dask/dataframe/__init__.py:42: FutureWarning: \n",
            "Dask dataframe query planning is disabled because dask-expr is not installed.\n",
            "\n",
            "You can install it with `pip install dask[dataframe]` or `conda install dask`.\n",
            "This will raise in a future version.\n",
            "\n",
            "  warnings.warn(msg, FutureWarning)\n"
          ]
        }
      ],
      "source": [
        "import numpy as np\n",
        "import pandas as pd\n",
        "from scipy import stats\n",
        "import matplotlib.pyplot as plt\n",
        "import seaborn as sns\n",
        "from sklearn.model_selection import train_test_split\n",
        "from sklearn.preprocessing import StandardScaler\n",
        "from scipy.spatial.distance import cdist\n",
        "from sklearn.decomposition import PCA\n",
        "from sklearn.model_selection import GridSearchCV, GroupKFold\n",
        "from sklearn.metrics import accuracy_score, precision_score, recall_score, f1_score, \\\n",
        "roc_auc_score, roc_curve, confusion_matrix, cohen_kappa_score, confusion_matrix, matthews_corrcoef\n",
        "\n",
        "from collections import defaultdict\n",
        "from sklearn.linear_model import LogisticRegression\n",
        "from sklearn.tree import DecisionTreeClassifier\n",
        "from sklearn.neighbors import KNeighborsClassifier\n",
        "from sklearn.ensemble import RandomForestClassifier\n",
        "from sklearn.ensemble import GradientBoostingClassifier\n",
        "from sklearn.svm import SVC\n",
        "import xgboost as xgb\n",
        "import lightgbm as lgb\n",
        "from sklearn.naive_bayes import GaussianNB\n",
        "from sklearn.ensemble import AdaBoostClassifier\n",
        "from sklearn.neural_network import MLPClassifier\n",
        "from sklearn.ensemble import StackingClassifier\n",
        "\n",
        "import warnings\n",
        "\n",
        "warnings.filterwarnings(\"ignore\")"
      ]
    },
    {
      "cell_type": "code",
      "source": [
        "from pydrive2.auth import GoogleAuth\n",
        "from pydrive2.drive import GoogleDrive\n",
        "from google.colab import auth\n",
        "from oauth2client.client import GoogleCredentials\n",
        "\n",
        "# Authenticate and create the PyDrive client.\n",
        "auth.authenticate_user()\n",
        "gauth = GoogleAuth()\n",
        "gauth.credentials = GoogleCredentials.get_application_default()\n",
        "drive = GoogleDrive(gauth)"
      ],
      "metadata": {
        "id": "ed6C9FRFvVDH"
      },
      "execution_count": null,
      "outputs": []
    },
    {
      "cell_type": "code",
      "source": [
        "file_id = '1irvCs70iiI8WkXSZMMStmfPGfke5ivrP'\n",
        "downloaded = drive.CreateFile({'id': file_id})\n",
        "downloaded.GetContentFile('data.csv')\n",
        "\n",
        "# Read the CSV file as DataFrame\n",
        "import numpy as np\n",
        "import pandas as pd\n",
        "\n",
        "data = pd.read_csv('data.csv', header=1) # pd.read_excel() for .xlsx file"
      ],
      "metadata": {
        "id": "QsphMrmavcGP"
      },
      "execution_count": null,
      "outputs": []
    },
    {
      "cell_type": "markdown",
      "source": [
        "# Data Preprocessing"
      ],
      "metadata": {
        "id": "_AV-dYy_mZ31"
      }
    },
    {
      "cell_type": "code",
      "source": [
        "data"
      ],
      "metadata": {
        "colab": {
          "base_uri": "https://localhost:8080/",
          "height": 443
        },
        "id": "WSCNKUw2v9Rz",
        "outputId": "954679f9-ed1f-463d-f932-5a6841f5d007"
      },
      "execution_count": null,
      "outputs": [
        {
          "output_type": "execute_result",
          "data": {
            "text/plain": [
              "      id  gender      PPE      DFA     RPDE  numPulses  numPeriodsPulses  \\\n",
              "0      0       1  0.85247  0.71826  0.57227        240               239   \n",
              "1      0       1  0.76686  0.69481  0.53966        234               233   \n",
              "2      0       1  0.85083  0.67604  0.58982        232               231   \n",
              "3      1       0  0.41121  0.79672  0.59257        178               177   \n",
              "4      1       0  0.32790  0.79782  0.53028        236               235   \n",
              "..   ...     ...      ...      ...      ...        ...               ...   \n",
              "751  250       0  0.80903  0.56355  0.28385        417               416   \n",
              "752  250       0  0.16084  0.56499  0.59194        415               413   \n",
              "753  251       0  0.88389  0.72335  0.46815        381               380   \n",
              "754  251       0  0.83782  0.74890  0.49823        340               339   \n",
              "755  251       0  0.81304  0.76471  0.46374        340               339   \n",
              "\n",
              "     meanPeriodPulses  stdDevPeriodPulses  locPctJitter  ...  \\\n",
              "0            0.008064            0.000087       0.00218  ...   \n",
              "1            0.008258            0.000073       0.00195  ...   \n",
              "2            0.008340            0.000060       0.00176  ...   \n",
              "3            0.010858            0.000183       0.00419  ...   \n",
              "4            0.008162            0.002669       0.00535  ...   \n",
              "..                ...                 ...           ...  ...   \n",
              "751          0.004627            0.000052       0.00064  ...   \n",
              "752          0.004550            0.000220       0.00143  ...   \n",
              "753          0.005069            0.000103       0.00076  ...   \n",
              "754          0.005679            0.000055       0.00092  ...   \n",
              "755          0.005676            0.000037       0.00078  ...   \n",
              "\n",
              "     tqwt_kurtosisValue_dec_28  tqwt_kurtosisValue_dec_29  \\\n",
              "0                       1.5620                     2.6445   \n",
              "1                       1.5589                     3.6107   \n",
              "2                       1.5643                     2.3308   \n",
              "3                       3.7805                     3.5664   \n",
              "4                       6.1727                     5.8416   \n",
              "..                         ...                        ...   \n",
              "751                     3.0706                     3.0190   \n",
              "752                     1.9704                     1.7451   \n",
              "753                    51.5607                    44.4641   \n",
              "754                    19.1607                    12.8312   \n",
              "755                    62.9927                    21.8152   \n",
              "\n",
              "     tqwt_kurtosisValue_dec_30  tqwt_kurtosisValue_dec_31  \\\n",
              "0                       3.8686                     4.2105   \n",
              "1                      23.5155                    14.1962   \n",
              "2                       9.4959                    10.7458   \n",
              "3                       5.2558                    14.0403   \n",
              "4                       6.0805                     5.7621   \n",
              "..                         ...                        ...   \n",
              "751                     3.1212                     2.4921   \n",
              "752                     1.8277                     2.4976   \n",
              "753                    26.1586                     6.3076   \n",
              "754                     8.9434                     2.2044   \n",
              "755                     9.2457                     4.8555   \n",
              "\n",
              "     tqwt_kurtosisValue_dec_32  tqwt_kurtosisValue_dec_33  \\\n",
              "0                       5.1221                     4.4625   \n",
              "1                      11.0261                     9.5082   \n",
              "2                      11.0177                     4.8066   \n",
              "3                       4.2235                     4.6857   \n",
              "4                       7.7817                    11.6891   \n",
              "..                         ...                        ...   \n",
              "751                     3.5844                     3.5400   \n",
              "752                     5.2981                     4.2616   \n",
              "753                     2.8601                     2.5361   \n",
              "754                     1.9496                     1.9664   \n",
              "755                     3.0551                     3.0415   \n",
              "\n",
              "     tqwt_kurtosisValue_dec_34  tqwt_kurtosisValue_dec_35  \\\n",
              "0                       2.6202                     3.0004   \n",
              "1                       6.5245                     6.3431   \n",
              "2                       2.9199                     3.1495   \n",
              "3                       4.8460                     6.2650   \n",
              "4                       8.2103                     5.0559   \n",
              "..                         ...                        ...   \n",
              "751                     3.3805                     3.2003   \n",
              "752                     6.3042                    10.9058   \n",
              "753                     3.5377                     3.3545   \n",
              "754                     2.6801                     2.8332   \n",
              "755                     4.0116                     2.6217   \n",
              "\n",
              "     tqwt_kurtosisValue_dec_36  class  \n",
              "0                      18.9405      1  \n",
              "1                      45.1780      1  \n",
              "2                       4.7666      1  \n",
              "3                       4.0603      1  \n",
              "4                       6.1164      1  \n",
              "..                         ...    ...  \n",
              "751                     6.8671      0  \n",
              "752                    28.4170      0  \n",
              "753                     5.0424      0  \n",
              "754                     3.7131      0  \n",
              "755                     3.1527      0  \n",
              "\n",
              "[756 rows x 755 columns]"
            ],
            "text/html": [
              "\n",
              "  <div id=\"df-01db05bd-e178-45f2-b205-fa773a4e04f2\" class=\"colab-df-container\">\n",
              "    <div>\n",
              "<style scoped>\n",
              "    .dataframe tbody tr th:only-of-type {\n",
              "        vertical-align: middle;\n",
              "    }\n",
              "\n",
              "    .dataframe tbody tr th {\n",
              "        vertical-align: top;\n",
              "    }\n",
              "\n",
              "    .dataframe thead th {\n",
              "        text-align: right;\n",
              "    }\n",
              "</style>\n",
              "<table border=\"1\" class=\"dataframe\">\n",
              "  <thead>\n",
              "    <tr style=\"text-align: right;\">\n",
              "      <th></th>\n",
              "      <th>id</th>\n",
              "      <th>gender</th>\n",
              "      <th>PPE</th>\n",
              "      <th>DFA</th>\n",
              "      <th>RPDE</th>\n",
              "      <th>numPulses</th>\n",
              "      <th>numPeriodsPulses</th>\n",
              "      <th>meanPeriodPulses</th>\n",
              "      <th>stdDevPeriodPulses</th>\n",
              "      <th>locPctJitter</th>\n",
              "      <th>...</th>\n",
              "      <th>tqwt_kurtosisValue_dec_28</th>\n",
              "      <th>tqwt_kurtosisValue_dec_29</th>\n",
              "      <th>tqwt_kurtosisValue_dec_30</th>\n",
              "      <th>tqwt_kurtosisValue_dec_31</th>\n",
              "      <th>tqwt_kurtosisValue_dec_32</th>\n",
              "      <th>tqwt_kurtosisValue_dec_33</th>\n",
              "      <th>tqwt_kurtosisValue_dec_34</th>\n",
              "      <th>tqwt_kurtosisValue_dec_35</th>\n",
              "      <th>tqwt_kurtosisValue_dec_36</th>\n",
              "      <th>class</th>\n",
              "    </tr>\n",
              "  </thead>\n",
              "  <tbody>\n",
              "    <tr>\n",
              "      <th>0</th>\n",
              "      <td>0</td>\n",
              "      <td>1</td>\n",
              "      <td>0.85247</td>\n",
              "      <td>0.71826</td>\n",
              "      <td>0.57227</td>\n",
              "      <td>240</td>\n",
              "      <td>239</td>\n",
              "      <td>0.008064</td>\n",
              "      <td>0.000087</td>\n",
              "      <td>0.00218</td>\n",
              "      <td>...</td>\n",
              "      <td>1.5620</td>\n",
              "      <td>2.6445</td>\n",
              "      <td>3.8686</td>\n",
              "      <td>4.2105</td>\n",
              "      <td>5.1221</td>\n",
              "      <td>4.4625</td>\n",
              "      <td>2.6202</td>\n",
              "      <td>3.0004</td>\n",
              "      <td>18.9405</td>\n",
              "      <td>1</td>\n",
              "    </tr>\n",
              "    <tr>\n",
              "      <th>1</th>\n",
              "      <td>0</td>\n",
              "      <td>1</td>\n",
              "      <td>0.76686</td>\n",
              "      <td>0.69481</td>\n",
              "      <td>0.53966</td>\n",
              "      <td>234</td>\n",
              "      <td>233</td>\n",
              "      <td>0.008258</td>\n",
              "      <td>0.000073</td>\n",
              "      <td>0.00195</td>\n",
              "      <td>...</td>\n",
              "      <td>1.5589</td>\n",
              "      <td>3.6107</td>\n",
              "      <td>23.5155</td>\n",
              "      <td>14.1962</td>\n",
              "      <td>11.0261</td>\n",
              "      <td>9.5082</td>\n",
              "      <td>6.5245</td>\n",
              "      <td>6.3431</td>\n",
              "      <td>45.1780</td>\n",
              "      <td>1</td>\n",
              "    </tr>\n",
              "    <tr>\n",
              "      <th>2</th>\n",
              "      <td>0</td>\n",
              "      <td>1</td>\n",
              "      <td>0.85083</td>\n",
              "      <td>0.67604</td>\n",
              "      <td>0.58982</td>\n",
              "      <td>232</td>\n",
              "      <td>231</td>\n",
              "      <td>0.008340</td>\n",
              "      <td>0.000060</td>\n",
              "      <td>0.00176</td>\n",
              "      <td>...</td>\n",
              "      <td>1.5643</td>\n",
              "      <td>2.3308</td>\n",
              "      <td>9.4959</td>\n",
              "      <td>10.7458</td>\n",
              "      <td>11.0177</td>\n",
              "      <td>4.8066</td>\n",
              "      <td>2.9199</td>\n",
              "      <td>3.1495</td>\n",
              "      <td>4.7666</td>\n",
              "      <td>1</td>\n",
              "    </tr>\n",
              "    <tr>\n",
              "      <th>3</th>\n",
              "      <td>1</td>\n",
              "      <td>0</td>\n",
              "      <td>0.41121</td>\n",
              "      <td>0.79672</td>\n",
              "      <td>0.59257</td>\n",
              "      <td>178</td>\n",
              "      <td>177</td>\n",
              "      <td>0.010858</td>\n",
              "      <td>0.000183</td>\n",
              "      <td>0.00419</td>\n",
              "      <td>...</td>\n",
              "      <td>3.7805</td>\n",
              "      <td>3.5664</td>\n",
              "      <td>5.2558</td>\n",
              "      <td>14.0403</td>\n",
              "      <td>4.2235</td>\n",
              "      <td>4.6857</td>\n",
              "      <td>4.8460</td>\n",
              "      <td>6.2650</td>\n",
              "      <td>4.0603</td>\n",
              "      <td>1</td>\n",
              "    </tr>\n",
              "    <tr>\n",
              "      <th>4</th>\n",
              "      <td>1</td>\n",
              "      <td>0</td>\n",
              "      <td>0.32790</td>\n",
              "      <td>0.79782</td>\n",
              "      <td>0.53028</td>\n",
              "      <td>236</td>\n",
              "      <td>235</td>\n",
              "      <td>0.008162</td>\n",
              "      <td>0.002669</td>\n",
              "      <td>0.00535</td>\n",
              "      <td>...</td>\n",
              "      <td>6.1727</td>\n",
              "      <td>5.8416</td>\n",
              "      <td>6.0805</td>\n",
              "      <td>5.7621</td>\n",
              "      <td>7.7817</td>\n",
              "      <td>11.6891</td>\n",
              "      <td>8.2103</td>\n",
              "      <td>5.0559</td>\n",
              "      <td>6.1164</td>\n",
              "      <td>1</td>\n",
              "    </tr>\n",
              "    <tr>\n",
              "      <th>...</th>\n",
              "      <td>...</td>\n",
              "      <td>...</td>\n",
              "      <td>...</td>\n",
              "      <td>...</td>\n",
              "      <td>...</td>\n",
              "      <td>...</td>\n",
              "      <td>...</td>\n",
              "      <td>...</td>\n",
              "      <td>...</td>\n",
              "      <td>...</td>\n",
              "      <td>...</td>\n",
              "      <td>...</td>\n",
              "      <td>...</td>\n",
              "      <td>...</td>\n",
              "      <td>...</td>\n",
              "      <td>...</td>\n",
              "      <td>...</td>\n",
              "      <td>...</td>\n",
              "      <td>...</td>\n",
              "      <td>...</td>\n",
              "      <td>...</td>\n",
              "    </tr>\n",
              "    <tr>\n",
              "      <th>751</th>\n",
              "      <td>250</td>\n",
              "      <td>0</td>\n",
              "      <td>0.80903</td>\n",
              "      <td>0.56355</td>\n",
              "      <td>0.28385</td>\n",
              "      <td>417</td>\n",
              "      <td>416</td>\n",
              "      <td>0.004627</td>\n",
              "      <td>0.000052</td>\n",
              "      <td>0.00064</td>\n",
              "      <td>...</td>\n",
              "      <td>3.0706</td>\n",
              "      <td>3.0190</td>\n",
              "      <td>3.1212</td>\n",
              "      <td>2.4921</td>\n",
              "      <td>3.5844</td>\n",
              "      <td>3.5400</td>\n",
              "      <td>3.3805</td>\n",
              "      <td>3.2003</td>\n",
              "      <td>6.8671</td>\n",
              "      <td>0</td>\n",
              "    </tr>\n",
              "    <tr>\n",
              "      <th>752</th>\n",
              "      <td>250</td>\n",
              "      <td>0</td>\n",
              "      <td>0.16084</td>\n",
              "      <td>0.56499</td>\n",
              "      <td>0.59194</td>\n",
              "      <td>415</td>\n",
              "      <td>413</td>\n",
              "      <td>0.004550</td>\n",
              "      <td>0.000220</td>\n",
              "      <td>0.00143</td>\n",
              "      <td>...</td>\n",
              "      <td>1.9704</td>\n",
              "      <td>1.7451</td>\n",
              "      <td>1.8277</td>\n",
              "      <td>2.4976</td>\n",
              "      <td>5.2981</td>\n",
              "      <td>4.2616</td>\n",
              "      <td>6.3042</td>\n",
              "      <td>10.9058</td>\n",
              "      <td>28.4170</td>\n",
              "      <td>0</td>\n",
              "    </tr>\n",
              "    <tr>\n",
              "      <th>753</th>\n",
              "      <td>251</td>\n",
              "      <td>0</td>\n",
              "      <td>0.88389</td>\n",
              "      <td>0.72335</td>\n",
              "      <td>0.46815</td>\n",
              "      <td>381</td>\n",
              "      <td>380</td>\n",
              "      <td>0.005069</td>\n",
              "      <td>0.000103</td>\n",
              "      <td>0.00076</td>\n",
              "      <td>...</td>\n",
              "      <td>51.5607</td>\n",
              "      <td>44.4641</td>\n",
              "      <td>26.1586</td>\n",
              "      <td>6.3076</td>\n",
              "      <td>2.8601</td>\n",
              "      <td>2.5361</td>\n",
              "      <td>3.5377</td>\n",
              "      <td>3.3545</td>\n",
              "      <td>5.0424</td>\n",
              "      <td>0</td>\n",
              "    </tr>\n",
              "    <tr>\n",
              "      <th>754</th>\n",
              "      <td>251</td>\n",
              "      <td>0</td>\n",
              "      <td>0.83782</td>\n",
              "      <td>0.74890</td>\n",
              "      <td>0.49823</td>\n",
              "      <td>340</td>\n",
              "      <td>339</td>\n",
              "      <td>0.005679</td>\n",
              "      <td>0.000055</td>\n",
              "      <td>0.00092</td>\n",
              "      <td>...</td>\n",
              "      <td>19.1607</td>\n",
              "      <td>12.8312</td>\n",
              "      <td>8.9434</td>\n",
              "      <td>2.2044</td>\n",
              "      <td>1.9496</td>\n",
              "      <td>1.9664</td>\n",
              "      <td>2.6801</td>\n",
              "      <td>2.8332</td>\n",
              "      <td>3.7131</td>\n",
              "      <td>0</td>\n",
              "    </tr>\n",
              "    <tr>\n",
              "      <th>755</th>\n",
              "      <td>251</td>\n",
              "      <td>0</td>\n",
              "      <td>0.81304</td>\n",
              "      <td>0.76471</td>\n",
              "      <td>0.46374</td>\n",
              "      <td>340</td>\n",
              "      <td>339</td>\n",
              "      <td>0.005676</td>\n",
              "      <td>0.000037</td>\n",
              "      <td>0.00078</td>\n",
              "      <td>...</td>\n",
              "      <td>62.9927</td>\n",
              "      <td>21.8152</td>\n",
              "      <td>9.2457</td>\n",
              "      <td>4.8555</td>\n",
              "      <td>3.0551</td>\n",
              "      <td>3.0415</td>\n",
              "      <td>4.0116</td>\n",
              "      <td>2.6217</td>\n",
              "      <td>3.1527</td>\n",
              "      <td>0</td>\n",
              "    </tr>\n",
              "  </tbody>\n",
              "</table>\n",
              "<p>756 rows × 755 columns</p>\n",
              "</div>\n",
              "    <div class=\"colab-df-buttons\">\n",
              "\n",
              "  <div class=\"colab-df-container\">\n",
              "    <button class=\"colab-df-convert\" onclick=\"convertToInteractive('df-01db05bd-e178-45f2-b205-fa773a4e04f2')\"\n",
              "            title=\"Convert this dataframe to an interactive table.\"\n",
              "            style=\"display:none;\">\n",
              "\n",
              "  <svg xmlns=\"http://www.w3.org/2000/svg\" height=\"24px\" viewBox=\"0 -960 960 960\">\n",
              "    <path d=\"M120-120v-720h720v720H120Zm60-500h600v-160H180v160Zm220 220h160v-160H400v160Zm0 220h160v-160H400v160ZM180-400h160v-160H180v160Zm440 0h160v-160H620v160ZM180-180h160v-160H180v160Zm440 0h160v-160H620v160Z\"/>\n",
              "  </svg>\n",
              "    </button>\n",
              "\n",
              "  <style>\n",
              "    .colab-df-container {\n",
              "      display:flex;\n",
              "      gap: 12px;\n",
              "    }\n",
              "\n",
              "    .colab-df-convert {\n",
              "      background-color: #E8F0FE;\n",
              "      border: none;\n",
              "      border-radius: 50%;\n",
              "      cursor: pointer;\n",
              "      display: none;\n",
              "      fill: #1967D2;\n",
              "      height: 32px;\n",
              "      padding: 0 0 0 0;\n",
              "      width: 32px;\n",
              "    }\n",
              "\n",
              "    .colab-df-convert:hover {\n",
              "      background-color: #E2EBFA;\n",
              "      box-shadow: 0px 1px 2px rgba(60, 64, 67, 0.3), 0px 1px 3px 1px rgba(60, 64, 67, 0.15);\n",
              "      fill: #174EA6;\n",
              "    }\n",
              "\n",
              "    .colab-df-buttons div {\n",
              "      margin-bottom: 4px;\n",
              "    }\n",
              "\n",
              "    [theme=dark] .colab-df-convert {\n",
              "      background-color: #3B4455;\n",
              "      fill: #D2E3FC;\n",
              "    }\n",
              "\n",
              "    [theme=dark] .colab-df-convert:hover {\n",
              "      background-color: #434B5C;\n",
              "      box-shadow: 0px 1px 3px 1px rgba(0, 0, 0, 0.15);\n",
              "      filter: drop-shadow(0px 1px 2px rgba(0, 0, 0, 0.3));\n",
              "      fill: #FFFFFF;\n",
              "    }\n",
              "  </style>\n",
              "\n",
              "    <script>\n",
              "      const buttonEl =\n",
              "        document.querySelector('#df-01db05bd-e178-45f2-b205-fa773a4e04f2 button.colab-df-convert');\n",
              "      buttonEl.style.display =\n",
              "        google.colab.kernel.accessAllowed ? 'block' : 'none';\n",
              "\n",
              "      async function convertToInteractive(key) {\n",
              "        const element = document.querySelector('#df-01db05bd-e178-45f2-b205-fa773a4e04f2');\n",
              "        const dataTable =\n",
              "          await google.colab.kernel.invokeFunction('convertToInteractive',\n",
              "                                                    [key], {});\n",
              "        if (!dataTable) return;\n",
              "\n",
              "        const docLinkHtml = 'Like what you see? Visit the ' +\n",
              "          '<a target=\"_blank\" href=https://colab.research.google.com/notebooks/data_table.ipynb>data table notebook</a>'\n",
              "          + ' to learn more about interactive tables.';\n",
              "        element.innerHTML = '';\n",
              "        dataTable['output_type'] = 'display_data';\n",
              "        await google.colab.output.renderOutput(dataTable, element);\n",
              "        const docLink = document.createElement('div');\n",
              "        docLink.innerHTML = docLinkHtml;\n",
              "        element.appendChild(docLink);\n",
              "      }\n",
              "    </script>\n",
              "  </div>\n",
              "\n",
              "\n",
              "<div id=\"df-210cda33-6636-4961-9efb-91320b9df80c\">\n",
              "  <button class=\"colab-df-quickchart\" onclick=\"quickchart('df-210cda33-6636-4961-9efb-91320b9df80c')\"\n",
              "            title=\"Suggest charts\"\n",
              "            style=\"display:none;\">\n",
              "\n",
              "<svg xmlns=\"http://www.w3.org/2000/svg\" height=\"24px\"viewBox=\"0 0 24 24\"\n",
              "     width=\"24px\">\n",
              "    <g>\n",
              "        <path d=\"M19 3H5c-1.1 0-2 .9-2 2v14c0 1.1.9 2 2 2h14c1.1 0 2-.9 2-2V5c0-1.1-.9-2-2-2zM9 17H7v-7h2v7zm4 0h-2V7h2v10zm4 0h-2v-4h2v4z\"/>\n",
              "    </g>\n",
              "</svg>\n",
              "  </button>\n",
              "\n",
              "<style>\n",
              "  .colab-df-quickchart {\n",
              "      --bg-color: #E8F0FE;\n",
              "      --fill-color: #1967D2;\n",
              "      --hover-bg-color: #E2EBFA;\n",
              "      --hover-fill-color: #174EA6;\n",
              "      --disabled-fill-color: #AAA;\n",
              "      --disabled-bg-color: #DDD;\n",
              "  }\n",
              "\n",
              "  [theme=dark] .colab-df-quickchart {\n",
              "      --bg-color: #3B4455;\n",
              "      --fill-color: #D2E3FC;\n",
              "      --hover-bg-color: #434B5C;\n",
              "      --hover-fill-color: #FFFFFF;\n",
              "      --disabled-bg-color: #3B4455;\n",
              "      --disabled-fill-color: #666;\n",
              "  }\n",
              "\n",
              "  .colab-df-quickchart {\n",
              "    background-color: var(--bg-color);\n",
              "    border: none;\n",
              "    border-radius: 50%;\n",
              "    cursor: pointer;\n",
              "    display: none;\n",
              "    fill: var(--fill-color);\n",
              "    height: 32px;\n",
              "    padding: 0;\n",
              "    width: 32px;\n",
              "  }\n",
              "\n",
              "  .colab-df-quickchart:hover {\n",
              "    background-color: var(--hover-bg-color);\n",
              "    box-shadow: 0 1px 2px rgba(60, 64, 67, 0.3), 0 1px 3px 1px rgba(60, 64, 67, 0.15);\n",
              "    fill: var(--button-hover-fill-color);\n",
              "  }\n",
              "\n",
              "  .colab-df-quickchart-complete:disabled,\n",
              "  .colab-df-quickchart-complete:disabled:hover {\n",
              "    background-color: var(--disabled-bg-color);\n",
              "    fill: var(--disabled-fill-color);\n",
              "    box-shadow: none;\n",
              "  }\n",
              "\n",
              "  .colab-df-spinner {\n",
              "    border: 2px solid var(--fill-color);\n",
              "    border-color: transparent;\n",
              "    border-bottom-color: var(--fill-color);\n",
              "    animation:\n",
              "      spin 1s steps(1) infinite;\n",
              "  }\n",
              "\n",
              "  @keyframes spin {\n",
              "    0% {\n",
              "      border-color: transparent;\n",
              "      border-bottom-color: var(--fill-color);\n",
              "      border-left-color: var(--fill-color);\n",
              "    }\n",
              "    20% {\n",
              "      border-color: transparent;\n",
              "      border-left-color: var(--fill-color);\n",
              "      border-top-color: var(--fill-color);\n",
              "    }\n",
              "    30% {\n",
              "      border-color: transparent;\n",
              "      border-left-color: var(--fill-color);\n",
              "      border-top-color: var(--fill-color);\n",
              "      border-right-color: var(--fill-color);\n",
              "    }\n",
              "    40% {\n",
              "      border-color: transparent;\n",
              "      border-right-color: var(--fill-color);\n",
              "      border-top-color: var(--fill-color);\n",
              "    }\n",
              "    60% {\n",
              "      border-color: transparent;\n",
              "      border-right-color: var(--fill-color);\n",
              "    }\n",
              "    80% {\n",
              "      border-color: transparent;\n",
              "      border-right-color: var(--fill-color);\n",
              "      border-bottom-color: var(--fill-color);\n",
              "    }\n",
              "    90% {\n",
              "      border-color: transparent;\n",
              "      border-bottom-color: var(--fill-color);\n",
              "    }\n",
              "  }\n",
              "</style>\n",
              "\n",
              "  <script>\n",
              "    async function quickchart(key) {\n",
              "      const quickchartButtonEl =\n",
              "        document.querySelector('#' + key + ' button');\n",
              "      quickchartButtonEl.disabled = true;  // To prevent multiple clicks.\n",
              "      quickchartButtonEl.classList.add('colab-df-spinner');\n",
              "      try {\n",
              "        const charts = await google.colab.kernel.invokeFunction(\n",
              "            'suggestCharts', [key], {});\n",
              "      } catch (error) {\n",
              "        console.error('Error during call to suggestCharts:', error);\n",
              "      }\n",
              "      quickchartButtonEl.classList.remove('colab-df-spinner');\n",
              "      quickchartButtonEl.classList.add('colab-df-quickchart-complete');\n",
              "    }\n",
              "    (() => {\n",
              "      let quickchartButtonEl =\n",
              "        document.querySelector('#df-210cda33-6636-4961-9efb-91320b9df80c button');\n",
              "      quickchartButtonEl.style.display =\n",
              "        google.colab.kernel.accessAllowed ? 'block' : 'none';\n",
              "    })();\n",
              "  </script>\n",
              "</div>\n",
              "\n",
              "  <div id=\"id_a60f05ba-2e02-447c-8248-2885348d0277\">\n",
              "    <style>\n",
              "      .colab-df-generate {\n",
              "        background-color: #E8F0FE;\n",
              "        border: none;\n",
              "        border-radius: 50%;\n",
              "        cursor: pointer;\n",
              "        display: none;\n",
              "        fill: #1967D2;\n",
              "        height: 32px;\n",
              "        padding: 0 0 0 0;\n",
              "        width: 32px;\n",
              "      }\n",
              "\n",
              "      .colab-df-generate:hover {\n",
              "        background-color: #E2EBFA;\n",
              "        box-shadow: 0px 1px 2px rgba(60, 64, 67, 0.3), 0px 1px 3px 1px rgba(60, 64, 67, 0.15);\n",
              "        fill: #174EA6;\n",
              "      }\n",
              "\n",
              "      [theme=dark] .colab-df-generate {\n",
              "        background-color: #3B4455;\n",
              "        fill: #D2E3FC;\n",
              "      }\n",
              "\n",
              "      [theme=dark] .colab-df-generate:hover {\n",
              "        background-color: #434B5C;\n",
              "        box-shadow: 0px 1px 3px 1px rgba(0, 0, 0, 0.15);\n",
              "        filter: drop-shadow(0px 1px 2px rgba(0, 0, 0, 0.3));\n",
              "        fill: #FFFFFF;\n",
              "      }\n",
              "    </style>\n",
              "    <button class=\"colab-df-generate\" onclick=\"generateWithVariable('data')\"\n",
              "            title=\"Generate code using this dataframe.\"\n",
              "            style=\"display:none;\">\n",
              "\n",
              "  <svg xmlns=\"http://www.w3.org/2000/svg\" height=\"24px\"viewBox=\"0 0 24 24\"\n",
              "       width=\"24px\">\n",
              "    <path d=\"M7,19H8.4L18.45,9,17,7.55,7,17.6ZM5,21V16.75L18.45,3.32a2,2,0,0,1,2.83,0l1.4,1.43a1.91,1.91,0,0,1,.58,1.4,1.91,1.91,0,0,1-.58,1.4L9.25,21ZM18.45,9,17,7.55Zm-12,3A5.31,5.31,0,0,0,4.9,8.1,5.31,5.31,0,0,0,1,6.5,5.31,5.31,0,0,0,4.9,4.9,5.31,5.31,0,0,0,6.5,1,5.31,5.31,0,0,0,8.1,4.9,5.31,5.31,0,0,0,12,6.5,5.46,5.46,0,0,0,6.5,12Z\"/>\n",
              "  </svg>\n",
              "    </button>\n",
              "    <script>\n",
              "      (() => {\n",
              "      const buttonEl =\n",
              "        document.querySelector('#id_a60f05ba-2e02-447c-8248-2885348d0277 button.colab-df-generate');\n",
              "      buttonEl.style.display =\n",
              "        google.colab.kernel.accessAllowed ? 'block' : 'none';\n",
              "\n",
              "      buttonEl.onclick = () => {\n",
              "        google.colab.notebook.generateWithVariable('data');\n",
              "      }\n",
              "      })();\n",
              "    </script>\n",
              "  </div>\n",
              "\n",
              "    </div>\n",
              "  </div>\n"
            ],
            "application/vnd.google.colaboratory.intrinsic+json": {
              "type": "dataframe",
              "variable_name": "data"
            }
          },
          "metadata": {},
          "execution_count": 4
        }
      ]
    },
    {
      "cell_type": "code",
      "source": [
        "unique_ids = data.groupby('id')['class'].max().reset_index()\n",
        "id_X = unique_ids['id']\n",
        "id_y = unique_ids['class']\n",
        "\n",
        "def split_data_by_id(data, test_size=0.3, random_state=None):\n",
        "    train_ids, test_ids, _, _ = train_test_split(id_X, id_y, test_size=test_size, stratify=id_y, random_state=random_state)\n",
        "    train_data = data[data['id'].isin(train_ids)]\n",
        "    test_data = data[data['id'].isin(test_ids)]\n",
        "    return train_data, test_data\n",
        "\n",
        "train_data, test_data, groups = [0]*10, [0]*10, [0]*10\n",
        "X_train, y_train, X_test, y_test = [0]*10, [0]*10, [0]*10, [0]*10\n",
        "\n",
        "for i in range(10):\n",
        "    train_data[i], test_data[i] = split_data_by_id(data, test_size=0.3, random_state=i+1)\n",
        "    groups[i] = train_data[i].id\n",
        "    X_train[i], y_train[i] = train_data[i].drop(columns=['id']).iloc[:,:-1], train_data[i].iloc[:,-1]\n",
        "    X_test[i], y_test[i] = test_data[i].drop(columns=['id']).iloc[:,:-1], test_data[i].iloc[:,-1]"
      ],
      "metadata": {
        "id": "DqxY5-CQwWgo"
      },
      "execution_count": null,
      "outputs": []
    },
    {
      "cell_type": "code",
      "source": [
        "X_train_scaled, X_test_scaled = [0]*10, [0]*10\n",
        "for i in range(10):\n",
        "    scaler = StandardScaler()\n",
        "    X_train_scaled[i] = pd.DataFrame(\n",
        "        scaler.fit_transform(X_train[i]),\n",
        "        index=X_train[i].index,\n",
        "        columns=X_train[i].columns\n",
        "    )\n",
        "\n",
        "    X_test_scaled[i] = pd.DataFrame(\n",
        "        scaler.transform(X_test[i]),\n",
        "        index=X_test[i].index,\n",
        "        columns=X_test[i].columns\n",
        "    )\n",
        "    X_train[i], X_test[i] = X_train_scaled[i], X_test_scaled[i]\n",
        "    train_data[i].iloc[:, 1:-1] = X_train[i]"
      ],
      "metadata": {
        "id": "5HgNLsbQr6OP"
      },
      "execution_count": null,
      "outputs": []
    },
    {
      "cell_type": "code",
      "source": [
        "def bos(train_data, random_state=42):\n",
        "    np.random.seed(random_state)\n",
        "\n",
        "    synthetic_data = train_data.copy()\n",
        "    grouped = synthetic_data.groupby('id')\n",
        "    centers = grouped.mean().iloc[:, :-1]\n",
        "    classes = grouped.first()['class']\n",
        "    minority_class_ids = centers[classes == 0].index\n",
        "    majority_class_ids = centers[classes == 1].index\n",
        "\n",
        "\n",
        "    minority_centers = centers.loc[minority_class_ids]\n",
        "    distances = cdist(minority_centers.values, minority_centers.values, metric='euclidean')\n",
        "    np.fill_diagonal(distances, np.inf)\n",
        "\n",
        "    K = 2\n",
        "    while len(minority_class_ids) <= len(majority_class_ids) - K:\n",
        "        selected_idx = np.random.choice(minority_centers.index)\n",
        "        selected_idx_row = minority_centers.index.get_loc(selected_idx)\n",
        "        neighbor_indices = distances[selected_idx_row].argsort()[:K]\n",
        "        neighbor_ids = minority_centers.index[neighbor_indices]\n",
        "\n",
        "        for neighbor_id in neighbor_ids:\n",
        "            original_group = grouped.get_group(selected_idx)\n",
        "            neighbor_group = grouped.get_group(neighbor_id)\n",
        "\n",
        "            new_id = data.id.max() + len(synthetic_data[\"id\"].unique()) + 1\n",
        "            for i in range(3):\n",
        "                original_sample = original_group.sample(n=1, random_state=random_state + i).iloc[:, 1:-1].values\n",
        "                neighbor_sample = neighbor_group.sample(n=1, random_state=random_state + i).iloc[:, 1:-1].values\n",
        "\n",
        "                z = np.random.uniform(0, 1)\n",
        "                new_sample_features = original_sample + z * (neighbor_sample - original_sample)\n",
        "                new_sample = new_sample_features.squeeze().tolist() + [0]\n",
        "\n",
        "                new_sample = pd.DataFrame([new_sample], columns=synthetic_data.columns[1:])\n",
        "                new_sample['id'] = new_id\n",
        "\n",
        "                synthetic_data = pd.concat([synthetic_data, new_sample], ignore_index=True)\n",
        "\n",
        "        minority_class_ids = synthetic_data[synthetic_data['class'] == 0]['id'].unique()\n",
        "    return synthetic_data\n",
        "\n",
        "for i in range(10):\n",
        "    synthetic_data = bos(train_data[i])\n",
        "    X_train[i], y_train[i] = synthetic_data.drop(columns=['id']).iloc[:,:-1], synthetic_data.iloc[:,-1]\n",
        "    groups[i] = synthetic_data.id\n",
        "    X_train[i] = X_train[i].groupby(X_train[i].index // 3).mean()\n",
        "    y_train[i] = y_train[i].groupby(y_train[i].index // 3).mean()\n",
        "    X_test[i] = X_test[i].groupby(X_test[i].index // 3).mean()\n",
        "    y_test[i] = y_test[i].groupby(y_test[i].index // 3).mean()\n",
        "\n",
        "    X_train[i] = X_train[i].to_numpy()\n",
        "    X_test[i] = X_test[i].to_numpy()"
      ],
      "metadata": {
        "id": "wX805DlMTu0f"
      },
      "execution_count": null,
      "outputs": []
    },
    {
      "cell_type": "markdown",
      "source": [
        "# Model"
      ],
      "metadata": {
        "id": "4Qwzg_0IwZXg"
      }
    },
    {
      "cell_type": "code",
      "source": [
        "def print_grid_search(gs):\n",
        "    print (\"Best score: \" + str(gs.best_score_))\n",
        "    print (\"Best parameters set:\")\n",
        "    best_parameters = gs.best_params_\n",
        "    for param_name in sorted(best_parameters.keys()):\n",
        "        print(param_name + ':' + str(best_parameters[param_name]))\n",
        "\n",
        "def get_metrics(i, model, mode = 'test'):\n",
        "    if mode == 'train':\n",
        "        X, y = X_train[i], y_train[i]\n",
        "    elif mode == 'test':\n",
        "        X, y = X_test[i], y_test[i]\n",
        "    results = {}\n",
        "    y_pred = model.predict(X)\n",
        "    y_pred_prob = model.predict_proba(X)[:, 1]\n",
        "\n",
        "    tn, fp, fn, tp = confusion_matrix(y, y_pred).ravel()\n",
        "    specificity = tn / (tn + fp)\n",
        "\n",
        "    results['Accuracy'] = accuracy_score(y, y_pred)\n",
        "    results['Precision'] = precision_score(y, y_pred)\n",
        "    results['Recall'] = recall_score(y, y_pred)\n",
        "    results['Specificity'] = specificity\n",
        "    results['F1'] = f1_score(y, y_pred)\n",
        "    # results['kappa'] = cohen_kappa_score(y, y_pred)\n",
        "    results['AUC'] = roc_auc_score(y, y_pred_prob)\n",
        "    results['MCC'] = matthews_corrcoef(y, y_pred)\n",
        "    return results\n",
        "\n",
        "def grid_search(i, model, params):\n",
        "    grid = GridSearchCV(model, params, cv=5)\n",
        "    grid.fit(X_train[i], y_train[i])\n",
        "    best = grid.best_estimator_\n",
        "    return get_metrics(i, best)"
      ],
      "metadata": {
        "id": "BVz4zsaef2i5"
      },
      "execution_count": null,
      "outputs": []
    },
    {
      "cell_type": "code",
      "source": [
        "summary = dict()"
      ],
      "metadata": {
        "id": "bj7NarPJXwHu"
      },
      "execution_count": null,
      "outputs": []
    },
    {
      "cell_type": "markdown",
      "source": [
        "## Logistic Regression"
      ],
      "metadata": {
        "id": "4q-Ozzzhx5kd"
      }
    },
    {
      "cell_type": "code",
      "source": [
        "params = {\n",
        "    'C': [0.01, 0.1, 1.0],\n",
        "    'penalty': ['l1', 'l2']\n",
        "}\n",
        "\n",
        "results = defaultdict(list)\n",
        "\n",
        "for i in range(10):\n",
        "    print(f\"\\rProcessing iteration {i+1}/10\", end='', flush=True)\n",
        "    metrics = grid_search(i, LogisticRegression(solver='liblinear', random_state=42), params)\n",
        "    for key, value in metrics.items():\n",
        "        results[key].append(value)\n",
        "\n",
        "results = dict(results)\n",
        "summary['Logistic Regression'] = results"
      ],
      "metadata": {
        "id": "N0BUqthdy1sp",
        "colab": {
          "base_uri": "https://localhost:8080/"
        },
        "outputId": "86b319d3-abc8-493f-82c6-a3cbd8203986"
      },
      "execution_count": null,
      "outputs": [
        {
          "output_type": "stream",
          "name": "stdout",
          "text": [
            "Processing iteration 10/10"
          ]
        }
      ]
    },
    {
      "cell_type": "code",
      "source": [
        "pd.DataFrame(summary['Logistic Regression']).mean()"
      ],
      "metadata": {
        "colab": {
          "base_uri": "https://localhost:8080/",
          "height": 303
        },
        "id": "1-LZ19aLX13B",
        "outputId": "e4ff95c9-e9f3-4177-d5f0-5824f1c7ae00"
      },
      "execution_count": null,
      "outputs": [
        {
          "output_type": "execute_result",
          "data": {
            "text/plain": [
              "Accuracy       0.826316\n",
              "Precision      0.887883\n",
              "Recall         0.882456\n",
              "Specificity    0.657895\n",
              "F1             0.883227\n",
              "AUC            0.841274\n",
              "MCC            0.546485\n",
              "dtype: float64"
            ],
            "text/html": [
              "<div>\n",
              "<style scoped>\n",
              "    .dataframe tbody tr th:only-of-type {\n",
              "        vertical-align: middle;\n",
              "    }\n",
              "\n",
              "    .dataframe tbody tr th {\n",
              "        vertical-align: top;\n",
              "    }\n",
              "\n",
              "    .dataframe thead th {\n",
              "        text-align: right;\n",
              "    }\n",
              "</style>\n",
              "<table border=\"1\" class=\"dataframe\">\n",
              "  <thead>\n",
              "    <tr style=\"text-align: right;\">\n",
              "      <th></th>\n",
              "      <th>0</th>\n",
              "    </tr>\n",
              "  </thead>\n",
              "  <tbody>\n",
              "    <tr>\n",
              "      <th>Accuracy</th>\n",
              "      <td>0.826316</td>\n",
              "    </tr>\n",
              "    <tr>\n",
              "      <th>Precision</th>\n",
              "      <td>0.887883</td>\n",
              "    </tr>\n",
              "    <tr>\n",
              "      <th>Recall</th>\n",
              "      <td>0.882456</td>\n",
              "    </tr>\n",
              "    <tr>\n",
              "      <th>Specificity</th>\n",
              "      <td>0.657895</td>\n",
              "    </tr>\n",
              "    <tr>\n",
              "      <th>F1</th>\n",
              "      <td>0.883227</td>\n",
              "    </tr>\n",
              "    <tr>\n",
              "      <th>AUC</th>\n",
              "      <td>0.841274</td>\n",
              "    </tr>\n",
              "    <tr>\n",
              "      <th>MCC</th>\n",
              "      <td>0.546485</td>\n",
              "    </tr>\n",
              "  </tbody>\n",
              "</table>\n",
              "</div><br><label><b>dtype:</b> float64</label>"
            ]
          },
          "metadata": {},
          "execution_count": 17
        }
      ]
    },
    {
      "cell_type": "markdown",
      "source": [
        "## Decision Tree"
      ],
      "metadata": {
        "id": "eT96ig6F4ACi"
      }
    },
    {
      "cell_type": "code",
      "source": [
        "params = {\n",
        "    'criterion': ['gini', 'entropy'],\n",
        "    'min_samples_split': [2, 5, 10],\n",
        "    'min_samples_leaf': [1, 2, 4]\n",
        "}\n",
        "\n",
        "results = defaultdict(list)\n",
        "\n",
        "for i in range(10):\n",
        "    print(f\"\\rProcessing iteration {i+1}/10\", end='', flush=True)\n",
        "    metrics = grid_search(i, DecisionTreeClassifier(random_state=42), params)\n",
        "    for key, value in metrics.items():\n",
        "        results[key].append(value)\n",
        "\n",
        "results = dict(results)\n",
        "summary['Decision Tree'] = results"
      ],
      "metadata": {
        "id": "vZjhpTo74Nzd",
        "colab": {
          "base_uri": "https://localhost:8080/"
        },
        "outputId": "5e63321f-2824-4e0d-ef26-5c553bd379f0"
      },
      "execution_count": null,
      "outputs": [
        {
          "output_type": "stream",
          "name": "stdout",
          "text": [
            "Processing iteration 10/10"
          ]
        }
      ]
    },
    {
      "cell_type": "code",
      "source": [
        "pd.DataFrame(summary['Decision Tree']).mean()"
      ],
      "metadata": {
        "colab": {
          "base_uri": "https://localhost:8080/",
          "height": 303
        },
        "id": "emOcO0TIX_z3",
        "outputId": "d96a46dc-9a94-414d-e357-aa4be1442ad0"
      },
      "execution_count": null,
      "outputs": [
        {
          "output_type": "execute_result",
          "data": {
            "text/plain": [
              "Accuracy       0.761842\n",
              "Precision      0.847232\n",
              "Recall         0.833333\n",
              "Specificity    0.547368\n",
              "F1             0.839677\n",
              "AUC            0.690997\n",
              "MCC            0.376101\n",
              "dtype: float64"
            ],
            "text/html": [
              "<div>\n",
              "<style scoped>\n",
              "    .dataframe tbody tr th:only-of-type {\n",
              "        vertical-align: middle;\n",
              "    }\n",
              "\n",
              "    .dataframe tbody tr th {\n",
              "        vertical-align: top;\n",
              "    }\n",
              "\n",
              "    .dataframe thead th {\n",
              "        text-align: right;\n",
              "    }\n",
              "</style>\n",
              "<table border=\"1\" class=\"dataframe\">\n",
              "  <thead>\n",
              "    <tr style=\"text-align: right;\">\n",
              "      <th></th>\n",
              "      <th>0</th>\n",
              "    </tr>\n",
              "  </thead>\n",
              "  <tbody>\n",
              "    <tr>\n",
              "      <th>Accuracy</th>\n",
              "      <td>0.761842</td>\n",
              "    </tr>\n",
              "    <tr>\n",
              "      <th>Precision</th>\n",
              "      <td>0.847232</td>\n",
              "    </tr>\n",
              "    <tr>\n",
              "      <th>Recall</th>\n",
              "      <td>0.833333</td>\n",
              "    </tr>\n",
              "    <tr>\n",
              "      <th>Specificity</th>\n",
              "      <td>0.547368</td>\n",
              "    </tr>\n",
              "    <tr>\n",
              "      <th>F1</th>\n",
              "      <td>0.839677</td>\n",
              "    </tr>\n",
              "    <tr>\n",
              "      <th>AUC</th>\n",
              "      <td>0.690997</td>\n",
              "    </tr>\n",
              "    <tr>\n",
              "      <th>MCC</th>\n",
              "      <td>0.376101</td>\n",
              "    </tr>\n",
              "  </tbody>\n",
              "</table>\n",
              "</div><br><label><b>dtype:</b> float64</label>"
            ]
          },
          "metadata": {},
          "execution_count": 19
        }
      ]
    },
    {
      "cell_type": "markdown",
      "source": [
        "## Random Forest"
      ],
      "metadata": {
        "id": "Ru7CJNgF4zsO"
      }
    },
    {
      "cell_type": "code",
      "source": [
        "params = {\n",
        "    'n_estimators': [100, 200, 300],\n",
        "    'max_features': ['log2', 'sqrt', 1]\n",
        "}\n",
        "\n",
        "results = defaultdict(list)\n",
        "\n",
        "for i in range(10):\n",
        "    print(f\"\\rProcessing iteration {i+1}/10\", end='', flush=True)\n",
        "    metrics = grid_search(i, RandomForestClassifier(random_state=42), params)\n",
        "    for key, value in metrics.items():\n",
        "        results[key].append(value)\n",
        "\n",
        "results = dict(results)\n",
        "summary['Random Forest'] = results"
      ],
      "metadata": {
        "id": "xEpkYQkk5OaZ",
        "colab": {
          "base_uri": "https://localhost:8080/"
        },
        "outputId": "0438e78e-c25b-4dac-9e70-1addbdac716d"
      },
      "execution_count": null,
      "outputs": [
        {
          "output_type": "stream",
          "name": "stdout",
          "text": [
            "Processing iteration 10/10"
          ]
        }
      ]
    },
    {
      "cell_type": "code",
      "source": [
        "pd.DataFrame(summary['Random Forest']).mean()"
      ],
      "metadata": {
        "colab": {
          "base_uri": "https://localhost:8080/",
          "height": 303
        },
        "id": "kBM5UtkZYEMx",
        "outputId": "3a3e693d-8e8b-4b4d-cc42-1b3ce2e85c12"
      },
      "execution_count": null,
      "outputs": [
        {
          "output_type": "execute_result",
          "data": {
            "text/plain": [
              "Accuracy       0.836842\n",
              "Precision      0.877861\n",
              "Recall         0.912281\n",
              "Specificity    0.610526\n",
              "F1             0.892960\n",
              "AUC            0.864035\n",
              "MCC            0.556821\n",
              "dtype: float64"
            ],
            "text/html": [
              "<div>\n",
              "<style scoped>\n",
              "    .dataframe tbody tr th:only-of-type {\n",
              "        vertical-align: middle;\n",
              "    }\n",
              "\n",
              "    .dataframe tbody tr th {\n",
              "        vertical-align: top;\n",
              "    }\n",
              "\n",
              "    .dataframe thead th {\n",
              "        text-align: right;\n",
              "    }\n",
              "</style>\n",
              "<table border=\"1\" class=\"dataframe\">\n",
              "  <thead>\n",
              "    <tr style=\"text-align: right;\">\n",
              "      <th></th>\n",
              "      <th>0</th>\n",
              "    </tr>\n",
              "  </thead>\n",
              "  <tbody>\n",
              "    <tr>\n",
              "      <th>Accuracy</th>\n",
              "      <td>0.836842</td>\n",
              "    </tr>\n",
              "    <tr>\n",
              "      <th>Precision</th>\n",
              "      <td>0.877861</td>\n",
              "    </tr>\n",
              "    <tr>\n",
              "      <th>Recall</th>\n",
              "      <td>0.912281</td>\n",
              "    </tr>\n",
              "    <tr>\n",
              "      <th>Specificity</th>\n",
              "      <td>0.610526</td>\n",
              "    </tr>\n",
              "    <tr>\n",
              "      <th>F1</th>\n",
              "      <td>0.892960</td>\n",
              "    </tr>\n",
              "    <tr>\n",
              "      <th>AUC</th>\n",
              "      <td>0.864035</td>\n",
              "    </tr>\n",
              "    <tr>\n",
              "      <th>MCC</th>\n",
              "      <td>0.556821</td>\n",
              "    </tr>\n",
              "  </tbody>\n",
              "</table>\n",
              "</div><br><label><b>dtype:</b> float64</label>"
            ]
          },
          "metadata": {},
          "execution_count": 21
        }
      ]
    },
    {
      "cell_type": "markdown",
      "source": [
        "## Gradient Boosting"
      ],
      "metadata": {
        "id": "chbNpoRn5UMx"
      }
    },
    {
      "cell_type": "code",
      "source": [
        "params = {\n",
        "    'n_estimators': [800],\n",
        "    'learning_rate': [0.01, 0.02],\n",
        "    'max_depth': [3, 5],\n",
        "    'max_features': ['sqrt', 'log2']\n",
        "}\n",
        "\n",
        "results = defaultdict(list)\n",
        "\n",
        "for i in range(10):\n",
        "    print(f\"\\rProcessing iteration {i+1}/10\", end='', flush=True)\n",
        "    metrics = grid_search(i, GradientBoostingClassifier(random_state=42), params)\n",
        "    for key, value in metrics.items():\n",
        "        results[key].append(value)\n",
        "\n",
        "results = dict(results)\n",
        "summary['GBDT'] = results"
      ],
      "metadata": {
        "id": "xfwdAP785d2W",
        "colab": {
          "base_uri": "https://localhost:8080/"
        },
        "outputId": "0e854df6-c70d-4548-da4b-d2c65923d970"
      },
      "execution_count": null,
      "outputs": [
        {
          "output_type": "stream",
          "name": "stdout",
          "text": [
            "Processing iteration 10/10"
          ]
        }
      ]
    },
    {
      "cell_type": "code",
      "source": [
        "pd.DataFrame(summary['GBDT']).mean()"
      ],
      "metadata": {
        "colab": {
          "base_uri": "https://localhost:8080/",
          "height": 303
        },
        "id": "H3OZqTZNYJzY",
        "outputId": "a61ae1d0-0f04-4de3-9775-ddb50e7fade3"
      },
      "execution_count": null,
      "outputs": [
        {
          "output_type": "execute_result",
          "data": {
            "text/plain": [
              "Accuracy       0.840789\n",
              "Precision      0.869025\n",
              "Recall         0.929825\n",
              "Specificity    0.573684\n",
              "F1             0.897299\n",
              "AUC            0.880240\n",
              "MCC            0.556459\n",
              "dtype: float64"
            ],
            "text/html": [
              "<div>\n",
              "<style scoped>\n",
              "    .dataframe tbody tr th:only-of-type {\n",
              "        vertical-align: middle;\n",
              "    }\n",
              "\n",
              "    .dataframe tbody tr th {\n",
              "        vertical-align: top;\n",
              "    }\n",
              "\n",
              "    .dataframe thead th {\n",
              "        text-align: right;\n",
              "    }\n",
              "</style>\n",
              "<table border=\"1\" class=\"dataframe\">\n",
              "  <thead>\n",
              "    <tr style=\"text-align: right;\">\n",
              "      <th></th>\n",
              "      <th>0</th>\n",
              "    </tr>\n",
              "  </thead>\n",
              "  <tbody>\n",
              "    <tr>\n",
              "      <th>Accuracy</th>\n",
              "      <td>0.840789</td>\n",
              "    </tr>\n",
              "    <tr>\n",
              "      <th>Precision</th>\n",
              "      <td>0.869025</td>\n",
              "    </tr>\n",
              "    <tr>\n",
              "      <th>Recall</th>\n",
              "      <td>0.929825</td>\n",
              "    </tr>\n",
              "    <tr>\n",
              "      <th>Specificity</th>\n",
              "      <td>0.573684</td>\n",
              "    </tr>\n",
              "    <tr>\n",
              "      <th>F1</th>\n",
              "      <td>0.897299</td>\n",
              "    </tr>\n",
              "    <tr>\n",
              "      <th>AUC</th>\n",
              "      <td>0.880240</td>\n",
              "    </tr>\n",
              "    <tr>\n",
              "      <th>MCC</th>\n",
              "      <td>0.556459</td>\n",
              "    </tr>\n",
              "  </tbody>\n",
              "</table>\n",
              "</div><br><label><b>dtype:</b> float64</label>"
            ]
          },
          "metadata": {},
          "execution_count": 23
        }
      ]
    },
    {
      "cell_type": "markdown",
      "source": [
        "## XGBoost"
      ],
      "metadata": {
        "id": "TqB9HfB96vmD"
      }
    },
    {
      "cell_type": "code",
      "source": [
        "results = defaultdict(list)\n",
        "\n",
        "for i in range(10):\n",
        "    print(f\"\\rProcessing iteration {i+1}/10\", end='', flush=True)\n",
        "    xgb_clf = xgb.XGBClassifier(\n",
        "    n_estimators=1000,\n",
        "    learning_rate=0.01,\n",
        "    max_depth=3,\n",
        "    min_child_weight=1,\n",
        "    gamma=0.1,\n",
        "    subsample=0.9,\n",
        "    colsample_bytree=0.3,\n",
        "    random_state=42)\n",
        "    xgb_clf.fit(X_train[i], y_train[i])\n",
        "    result = get_metrics(i, xgb_clf)\n",
        "    for key, value in result.items():\n",
        "        results[key].append(value)\n",
        "\n",
        "results = dict(results)\n",
        "summary['XGBoost'] = results"
      ],
      "metadata": {
        "id": "bN9p1c8h7I6R",
        "colab": {
          "base_uri": "https://localhost:8080/"
        },
        "outputId": "c99af239-21a2-4019-8935-162e2edba888"
      },
      "execution_count": null,
      "outputs": [
        {
          "output_type": "stream",
          "name": "stdout",
          "text": [
            "Processing iteration 10/10"
          ]
        }
      ]
    },
    {
      "cell_type": "code",
      "source": [
        "pd.DataFrame(summary['XGBoost']).mean()"
      ],
      "metadata": {
        "colab": {
          "base_uri": "https://localhost:8080/",
          "height": 303
        },
        "id": "wIWBhT4ZYO6P",
        "outputId": "435459b7-ebc9-4106-a795-567df9c1e5cd"
      },
      "execution_count": null,
      "outputs": [
        {
          "output_type": "execute_result",
          "data": {
            "text/plain": [
              "Accuracy       0.838158\n",
              "Precision      0.877813\n",
              "Recall         0.914035\n",
              "Specificity    0.610526\n",
              "F1             0.894143\n",
              "AUC            0.875716\n",
              "MCC            0.557551\n",
              "dtype: float64"
            ],
            "text/html": [
              "<div>\n",
              "<style scoped>\n",
              "    .dataframe tbody tr th:only-of-type {\n",
              "        vertical-align: middle;\n",
              "    }\n",
              "\n",
              "    .dataframe tbody tr th {\n",
              "        vertical-align: top;\n",
              "    }\n",
              "\n",
              "    .dataframe thead th {\n",
              "        text-align: right;\n",
              "    }\n",
              "</style>\n",
              "<table border=\"1\" class=\"dataframe\">\n",
              "  <thead>\n",
              "    <tr style=\"text-align: right;\">\n",
              "      <th></th>\n",
              "      <th>0</th>\n",
              "    </tr>\n",
              "  </thead>\n",
              "  <tbody>\n",
              "    <tr>\n",
              "      <th>Accuracy</th>\n",
              "      <td>0.838158</td>\n",
              "    </tr>\n",
              "    <tr>\n",
              "      <th>Precision</th>\n",
              "      <td>0.877813</td>\n",
              "    </tr>\n",
              "    <tr>\n",
              "      <th>Recall</th>\n",
              "      <td>0.914035</td>\n",
              "    </tr>\n",
              "    <tr>\n",
              "      <th>Specificity</th>\n",
              "      <td>0.610526</td>\n",
              "    </tr>\n",
              "    <tr>\n",
              "      <th>F1</th>\n",
              "      <td>0.894143</td>\n",
              "    </tr>\n",
              "    <tr>\n",
              "      <th>AUC</th>\n",
              "      <td>0.875716</td>\n",
              "    </tr>\n",
              "    <tr>\n",
              "      <th>MCC</th>\n",
              "      <td>0.557551</td>\n",
              "    </tr>\n",
              "  </tbody>\n",
              "</table>\n",
              "</div><br><label><b>dtype:</b> float64</label>"
            ]
          },
          "metadata": {},
          "execution_count": 25
        }
      ]
    },
    {
      "cell_type": "markdown",
      "source": [
        "## LightGBM"
      ],
      "metadata": {
        "id": "Iwv-wvfT7Z3T"
      }
    },
    {
      "cell_type": "code",
      "source": [
        "params = {\n",
        "    'n_estimators': [50, 100, 150],\n",
        "    'learning_rate': [0.2, 0.3, 0.4],\n",
        "    'max_depth': [3],\n",
        "    'num_leaves': [10],\n",
        "    'subsample': [0.3],\n",
        "    'colsample_bytree': [0.8, 0.9]\n",
        "}\n",
        "\n",
        "results = defaultdict(list)\n",
        "\n",
        "for i in range(10):\n",
        "    print(f\"\\rProcessing iteration {i+1}/10\", end='', flush=True)\n",
        "    metrics = grid_search(i, lgb.LGBMClassifier(n_jobs=-1, verbose=-1), params)\n",
        "    for key, value in metrics.items():\n",
        "        results[key].append(value)\n",
        "\n",
        "results = dict(results)\n",
        "summary['LightGBM'] = results"
      ],
      "metadata": {
        "id": "8PuXTiAR-GEH",
        "colab": {
          "base_uri": "https://localhost:8080/"
        },
        "outputId": "e13b604c-4128-4565-c35b-268105c7de21"
      },
      "execution_count": null,
      "outputs": [
        {
          "output_type": "stream",
          "name": "stdout",
          "text": [
            "Processing iteration 10/10"
          ]
        }
      ]
    },
    {
      "cell_type": "code",
      "source": [
        "pd.DataFrame(summary['LightGBM']).mean()"
      ],
      "metadata": {
        "colab": {
          "base_uri": "https://localhost:8080/",
          "height": 303
        },
        "id": "tB4i_l6IYUVN",
        "outputId": "9ff17005-2287-46c5-db28-13c10a196ab6"
      },
      "execution_count": null,
      "outputs": [
        {
          "output_type": "execute_result",
          "data": {
            "text/plain": [
              "Accuracy       0.827632\n",
              "Precision      0.864788\n",
              "Recall         0.915789\n",
              "Specificity    0.563158\n",
              "F1             0.888452\n",
              "AUC            0.879963\n",
              "MCC            0.518754\n",
              "dtype: float64"
            ],
            "text/html": [
              "<div>\n",
              "<style scoped>\n",
              "    .dataframe tbody tr th:only-of-type {\n",
              "        vertical-align: middle;\n",
              "    }\n",
              "\n",
              "    .dataframe tbody tr th {\n",
              "        vertical-align: top;\n",
              "    }\n",
              "\n",
              "    .dataframe thead th {\n",
              "        text-align: right;\n",
              "    }\n",
              "</style>\n",
              "<table border=\"1\" class=\"dataframe\">\n",
              "  <thead>\n",
              "    <tr style=\"text-align: right;\">\n",
              "      <th></th>\n",
              "      <th>0</th>\n",
              "    </tr>\n",
              "  </thead>\n",
              "  <tbody>\n",
              "    <tr>\n",
              "      <th>Accuracy</th>\n",
              "      <td>0.827632</td>\n",
              "    </tr>\n",
              "    <tr>\n",
              "      <th>Precision</th>\n",
              "      <td>0.864788</td>\n",
              "    </tr>\n",
              "    <tr>\n",
              "      <th>Recall</th>\n",
              "      <td>0.915789</td>\n",
              "    </tr>\n",
              "    <tr>\n",
              "      <th>Specificity</th>\n",
              "      <td>0.563158</td>\n",
              "    </tr>\n",
              "    <tr>\n",
              "      <th>F1</th>\n",
              "      <td>0.888452</td>\n",
              "    </tr>\n",
              "    <tr>\n",
              "      <th>AUC</th>\n",
              "      <td>0.879963</td>\n",
              "    </tr>\n",
              "    <tr>\n",
              "      <th>MCC</th>\n",
              "      <td>0.518754</td>\n",
              "    </tr>\n",
              "  </tbody>\n",
              "</table>\n",
              "</div><br><label><b>dtype:</b> float64</label>"
            ]
          },
          "metadata": {},
          "execution_count": 27
        }
      ]
    },
    {
      "cell_type": "markdown",
      "source": [
        "## KNN"
      ],
      "metadata": {
        "id": "bkSdreRL-bGI"
      }
    },
    {
      "cell_type": "code",
      "source": [
        "params = {\n",
        "    'n_neighbors': [2, 3, 4],\n",
        "    'weights': ['uniform', 'distance'],\n",
        "    'p': [1, 2]\n",
        "}\n",
        "\n",
        "results = defaultdict(list)\n",
        "\n",
        "for i in range(10):\n",
        "    print(f\"\\rProcessing iteration {i+1}/10\", end='', flush=True)\n",
        "    metrics = grid_search(i, KNeighborsClassifier(n_jobs=-1, algorithm='ball_tree'), params)\n",
        "    for key, value in metrics.items():\n",
        "        results[key].append(value)\n",
        "\n",
        "results = dict(results)\n",
        "summary['KNN'] = results"
      ],
      "metadata": {
        "id": "_x3NFROv_iMV",
        "colab": {
          "base_uri": "https://localhost:8080/"
        },
        "outputId": "3c7f4466-1a37-492f-d6ce-59e7913379a1"
      },
      "execution_count": null,
      "outputs": [
        {
          "output_type": "stream",
          "name": "stdout",
          "text": [
            "Processing iteration 10/10"
          ]
        }
      ]
    },
    {
      "cell_type": "code",
      "source": [
        "pd.DataFrame(summary['KNN']).mean()"
      ],
      "metadata": {
        "colab": {
          "base_uri": "https://localhost:8080/",
          "height": 303
        },
        "id": "n2nbRasBYYTt",
        "outputId": "e5f3823f-f60f-4a73-fc56-e67606d42915"
      },
      "execution_count": null,
      "outputs": [
        {
          "output_type": "execute_result",
          "data": {
            "text/plain": [
              "Accuracy       0.722368\n",
              "Precision      0.859603\n",
              "Recall         0.754386\n",
              "Specificity    0.626316\n",
              "F1             0.802133\n",
              "AUC            0.750139\n",
              "MCC            0.350301\n",
              "dtype: float64"
            ],
            "text/html": [
              "<div>\n",
              "<style scoped>\n",
              "    .dataframe tbody tr th:only-of-type {\n",
              "        vertical-align: middle;\n",
              "    }\n",
              "\n",
              "    .dataframe tbody tr th {\n",
              "        vertical-align: top;\n",
              "    }\n",
              "\n",
              "    .dataframe thead th {\n",
              "        text-align: right;\n",
              "    }\n",
              "</style>\n",
              "<table border=\"1\" class=\"dataframe\">\n",
              "  <thead>\n",
              "    <tr style=\"text-align: right;\">\n",
              "      <th></th>\n",
              "      <th>0</th>\n",
              "    </tr>\n",
              "  </thead>\n",
              "  <tbody>\n",
              "    <tr>\n",
              "      <th>Accuracy</th>\n",
              "      <td>0.722368</td>\n",
              "    </tr>\n",
              "    <tr>\n",
              "      <th>Precision</th>\n",
              "      <td>0.859603</td>\n",
              "    </tr>\n",
              "    <tr>\n",
              "      <th>Recall</th>\n",
              "      <td>0.754386</td>\n",
              "    </tr>\n",
              "    <tr>\n",
              "      <th>Specificity</th>\n",
              "      <td>0.626316</td>\n",
              "    </tr>\n",
              "    <tr>\n",
              "      <th>F1</th>\n",
              "      <td>0.802133</td>\n",
              "    </tr>\n",
              "    <tr>\n",
              "      <th>AUC</th>\n",
              "      <td>0.750139</td>\n",
              "    </tr>\n",
              "    <tr>\n",
              "      <th>MCC</th>\n",
              "      <td>0.350301</td>\n",
              "    </tr>\n",
              "  </tbody>\n",
              "</table>\n",
              "</div><br><label><b>dtype:</b> float64</label>"
            ]
          },
          "metadata": {},
          "execution_count": 29
        }
      ]
    },
    {
      "cell_type": "markdown",
      "source": [
        "## SVM"
      ],
      "metadata": {
        "id": "a5oxmMa8_lkY"
      }
    },
    {
      "cell_type": "code",
      "source": [
        "params = {\n",
        "    'C': [0.5, 1, 2],\n",
        "    'gamma': ['scale', 'auto'],\n",
        "}\n",
        "\n",
        "results = defaultdict(list)\n",
        "\n",
        "for i in range(10):\n",
        "    print(f\"\\rProcessing iteration {i+1}/10\", end='', flush=True)\n",
        "    metrics = grid_search(i, SVC(random_state=42, probability=True), params)\n",
        "    for key, value in metrics.items():\n",
        "        results[key].append(value)\n",
        "\n",
        "results = dict(results)\n",
        "summary['SVM'] = results"
      ],
      "metadata": {
        "id": "0F5E48TV_4Z2",
        "colab": {
          "base_uri": "https://localhost:8080/"
        },
        "outputId": "7acc67bb-de34-49c4-d1b3-9b08aa1b7eef"
      },
      "execution_count": null,
      "outputs": [
        {
          "output_type": "stream",
          "name": "stdout",
          "text": [
            "Processing iteration 10/10"
          ]
        }
      ]
    },
    {
      "cell_type": "code",
      "source": [
        "pd.DataFrame(summary['SVM']).mean()"
      ],
      "metadata": {
        "colab": {
          "base_uri": "https://localhost:8080/",
          "height": 303
        },
        "id": "ogypmuPvYd0S",
        "outputId": "4e290f45-6fcf-4907-8fa5-cbceab98f7a1"
      },
      "execution_count": null,
      "outputs": [
        {
          "output_type": "execute_result",
          "data": {
            "text/plain": [
              "Accuracy       0.818421\n",
              "Precision      0.845221\n",
              "Recall         0.929825\n",
              "Specificity    0.484211\n",
              "F1             0.884725\n",
              "AUC            0.840166\n",
              "MCC            0.475821\n",
              "dtype: float64"
            ],
            "text/html": [
              "<div>\n",
              "<style scoped>\n",
              "    .dataframe tbody tr th:only-of-type {\n",
              "        vertical-align: middle;\n",
              "    }\n",
              "\n",
              "    .dataframe tbody tr th {\n",
              "        vertical-align: top;\n",
              "    }\n",
              "\n",
              "    .dataframe thead th {\n",
              "        text-align: right;\n",
              "    }\n",
              "</style>\n",
              "<table border=\"1\" class=\"dataframe\">\n",
              "  <thead>\n",
              "    <tr style=\"text-align: right;\">\n",
              "      <th></th>\n",
              "      <th>0</th>\n",
              "    </tr>\n",
              "  </thead>\n",
              "  <tbody>\n",
              "    <tr>\n",
              "      <th>Accuracy</th>\n",
              "      <td>0.818421</td>\n",
              "    </tr>\n",
              "    <tr>\n",
              "      <th>Precision</th>\n",
              "      <td>0.845221</td>\n",
              "    </tr>\n",
              "    <tr>\n",
              "      <th>Recall</th>\n",
              "      <td>0.929825</td>\n",
              "    </tr>\n",
              "    <tr>\n",
              "      <th>Specificity</th>\n",
              "      <td>0.484211</td>\n",
              "    </tr>\n",
              "    <tr>\n",
              "      <th>F1</th>\n",
              "      <td>0.884725</td>\n",
              "    </tr>\n",
              "    <tr>\n",
              "      <th>AUC</th>\n",
              "      <td>0.840166</td>\n",
              "    </tr>\n",
              "    <tr>\n",
              "      <th>MCC</th>\n",
              "      <td>0.475821</td>\n",
              "    </tr>\n",
              "  </tbody>\n",
              "</table>\n",
              "</div><br><label><b>dtype:</b> float64</label>"
            ]
          },
          "metadata": {},
          "execution_count": 31
        }
      ]
    },
    {
      "cell_type": "markdown",
      "source": [
        "## Naive Bayes"
      ],
      "metadata": {
        "id": "rseZJRhF_9ph"
      }
    },
    {
      "cell_type": "code",
      "source": [
        "results = defaultdict(list)\n",
        "\n",
        "for i in range(10):\n",
        "    print(f\"\\rProcessing iteration {i+1}/10\", end='', flush=True)\n",
        "    nb = GaussianNB()\n",
        "    nb.fit(X_train[i], y_train[i])\n",
        "    result = get_metrics(i, nb)\n",
        "    for key, value in result.items():\n",
        "        results[key].append(value)\n",
        "\n",
        "results = dict(results)\n",
        "summary['Naive Bayes'] = results"
      ],
      "metadata": {
        "id": "qBcrdYR8ALtd",
        "colab": {
          "base_uri": "https://localhost:8080/"
        },
        "outputId": "4f12a0cc-d3b4-42d1-f078-e61e195446fe"
      },
      "execution_count": null,
      "outputs": [
        {
          "output_type": "stream",
          "name": "stdout",
          "text": [
            "Processing iteration 10/10"
          ]
        }
      ]
    },
    {
      "cell_type": "code",
      "source": [
        "pd.DataFrame(summary['Naive Bayes']).mean()"
      ],
      "metadata": {
        "colab": {
          "base_uri": "https://localhost:8080/",
          "height": 303
        },
        "id": "EBkDxLwhYhzS",
        "outputId": "e587d1c7-72de-4679-c503-4c49592bf226"
      },
      "execution_count": null,
      "outputs": [
        {
          "output_type": "execute_result",
          "data": {
            "text/plain": [
              "Accuracy       0.753947\n",
              "Precision      0.892913\n",
              "Recall         0.764912\n",
              "Specificity    0.721053\n",
              "F1             0.822167\n",
              "AUC            0.795152\n",
              "MCC            0.443725\n",
              "dtype: float64"
            ],
            "text/html": [
              "<div>\n",
              "<style scoped>\n",
              "    .dataframe tbody tr th:only-of-type {\n",
              "        vertical-align: middle;\n",
              "    }\n",
              "\n",
              "    .dataframe tbody tr th {\n",
              "        vertical-align: top;\n",
              "    }\n",
              "\n",
              "    .dataframe thead th {\n",
              "        text-align: right;\n",
              "    }\n",
              "</style>\n",
              "<table border=\"1\" class=\"dataframe\">\n",
              "  <thead>\n",
              "    <tr style=\"text-align: right;\">\n",
              "      <th></th>\n",
              "      <th>0</th>\n",
              "    </tr>\n",
              "  </thead>\n",
              "  <tbody>\n",
              "    <tr>\n",
              "      <th>Accuracy</th>\n",
              "      <td>0.753947</td>\n",
              "    </tr>\n",
              "    <tr>\n",
              "      <th>Precision</th>\n",
              "      <td>0.892913</td>\n",
              "    </tr>\n",
              "    <tr>\n",
              "      <th>Recall</th>\n",
              "      <td>0.764912</td>\n",
              "    </tr>\n",
              "    <tr>\n",
              "      <th>Specificity</th>\n",
              "      <td>0.721053</td>\n",
              "    </tr>\n",
              "    <tr>\n",
              "      <th>F1</th>\n",
              "      <td>0.822167</td>\n",
              "    </tr>\n",
              "    <tr>\n",
              "      <th>AUC</th>\n",
              "      <td>0.795152</td>\n",
              "    </tr>\n",
              "    <tr>\n",
              "      <th>MCC</th>\n",
              "      <td>0.443725</td>\n",
              "    </tr>\n",
              "  </tbody>\n",
              "</table>\n",
              "</div><br><label><b>dtype:</b> float64</label>"
            ]
          },
          "metadata": {},
          "execution_count": 33
        }
      ]
    },
    {
      "cell_type": "markdown",
      "source": [
        "## AdaBoost"
      ],
      "metadata": {
        "id": "vfn_Ya2OAOv7"
      }
    },
    {
      "cell_type": "code",
      "source": [
        "results = defaultdict(list)\n",
        "\n",
        "for i in range(10):\n",
        "    print(f\"\\rProcessing iteration {i+1}/10\", end='', flush=True)\n",
        "    ada = AdaBoostClassifier(\n",
        "    estimator=DecisionTreeClassifier(max_depth=1),\n",
        "    n_estimators=100,\n",
        "    learning_rate=0.5,\n",
        "    random_state=42)\n",
        "    ada.fit(X_train[i], y_train[i])\n",
        "    result = get_metrics(i, ada)\n",
        "    for key, value in result.items():\n",
        "        results[key].append(value)\n",
        "\n",
        "results = dict(results)\n",
        "summary['AdaBoost'] = results"
      ],
      "metadata": {
        "id": "YRJr0nnWAWI_",
        "colab": {
          "base_uri": "https://localhost:8080/"
        },
        "outputId": "408df121-9dea-4d70-9ee4-67e048f3fe8e"
      },
      "execution_count": null,
      "outputs": [
        {
          "output_type": "stream",
          "name": "stdout",
          "text": [
            "Processing iteration 10/10"
          ]
        }
      ]
    },
    {
      "cell_type": "code",
      "source": [
        "pd.DataFrame(summary['AdaBoost']).mean()"
      ],
      "metadata": {
        "colab": {
          "base_uri": "https://localhost:8080/",
          "height": 303
        },
        "id": "SGsneDTZYlp2",
        "outputId": "e6f57598-7f65-44dc-eed2-2dda5f44ed37"
      },
      "execution_count": null,
      "outputs": [
        {
          "output_type": "execute_result",
          "data": {
            "text/plain": [
              "Accuracy       0.825000\n",
              "Precision      0.872699\n",
              "Recall         0.900000\n",
              "Specificity    0.600000\n",
              "F1             0.884792\n",
              "AUC            0.858079\n",
              "MCC            0.525708\n",
              "dtype: float64"
            ],
            "text/html": [
              "<div>\n",
              "<style scoped>\n",
              "    .dataframe tbody tr th:only-of-type {\n",
              "        vertical-align: middle;\n",
              "    }\n",
              "\n",
              "    .dataframe tbody tr th {\n",
              "        vertical-align: top;\n",
              "    }\n",
              "\n",
              "    .dataframe thead th {\n",
              "        text-align: right;\n",
              "    }\n",
              "</style>\n",
              "<table border=\"1\" class=\"dataframe\">\n",
              "  <thead>\n",
              "    <tr style=\"text-align: right;\">\n",
              "      <th></th>\n",
              "      <th>0</th>\n",
              "    </tr>\n",
              "  </thead>\n",
              "  <tbody>\n",
              "    <tr>\n",
              "      <th>Accuracy</th>\n",
              "      <td>0.825000</td>\n",
              "    </tr>\n",
              "    <tr>\n",
              "      <th>Precision</th>\n",
              "      <td>0.872699</td>\n",
              "    </tr>\n",
              "    <tr>\n",
              "      <th>Recall</th>\n",
              "      <td>0.900000</td>\n",
              "    </tr>\n",
              "    <tr>\n",
              "      <th>Specificity</th>\n",
              "      <td>0.600000</td>\n",
              "    </tr>\n",
              "    <tr>\n",
              "      <th>F1</th>\n",
              "      <td>0.884792</td>\n",
              "    </tr>\n",
              "    <tr>\n",
              "      <th>AUC</th>\n",
              "      <td>0.858079</td>\n",
              "    </tr>\n",
              "    <tr>\n",
              "      <th>MCC</th>\n",
              "      <td>0.525708</td>\n",
              "    </tr>\n",
              "  </tbody>\n",
              "</table>\n",
              "</div><br><label><b>dtype:</b> float64</label>"
            ]
          },
          "metadata": {},
          "execution_count": 35
        }
      ]
    },
    {
      "cell_type": "markdown",
      "source": [
        "## MLP"
      ],
      "metadata": {
        "id": "1JZNbpRNAmKO"
      }
    },
    {
      "cell_type": "code",
      "source": [
        "results = defaultdict(list)\n",
        "\n",
        "for i in range(10):\n",
        "    print(f\"\\rProcessing iteration {i+1}/10\", end='', flush=True)\n",
        "    mlp = MLPClassifier(random_state=42, hidden_layer_sizes=(512,256,128,64), learning_rate_init=0.001)\n",
        "    mlp.fit(X_train[i], y_train[i])\n",
        "    result = get_metrics(i, mlp)\n",
        "    for key, value in result.items():\n",
        "        results[key].append(value)\n",
        "\n",
        "results = dict(results)\n",
        "summary['MLP'] = results"
      ],
      "metadata": {
        "id": "cqX4G4mWBBRQ",
        "colab": {
          "base_uri": "https://localhost:8080/"
        },
        "outputId": "9f6760ef-5a23-4b26-b54b-9464765a50a3"
      },
      "execution_count": null,
      "outputs": [
        {
          "output_type": "stream",
          "name": "stdout",
          "text": [
            "Processing iteration 10/10"
          ]
        }
      ]
    },
    {
      "cell_type": "code",
      "source": [
        "pd.DataFrame(summary['MLP']).mean()"
      ],
      "metadata": {
        "colab": {
          "base_uri": "https://localhost:8080/",
          "height": 303
        },
        "id": "imfIkTUcYxT5",
        "outputId": "39e0ea20-f7c3-43f0-9bbe-b80f6ae77972"
      },
      "execution_count": null,
      "outputs": [
        {
          "output_type": "execute_result",
          "data": {
            "text/plain": [
              "Accuracy       0.860526\n",
              "Precision      0.888104\n",
              "Recall         0.933333\n",
              "Specificity    0.642105\n",
              "F1             0.909462\n",
              "AUC            0.857895\n",
              "MCC            0.613347\n",
              "dtype: float64"
            ],
            "text/html": [
              "<div>\n",
              "<style scoped>\n",
              "    .dataframe tbody tr th:only-of-type {\n",
              "        vertical-align: middle;\n",
              "    }\n",
              "\n",
              "    .dataframe tbody tr th {\n",
              "        vertical-align: top;\n",
              "    }\n",
              "\n",
              "    .dataframe thead th {\n",
              "        text-align: right;\n",
              "    }\n",
              "</style>\n",
              "<table border=\"1\" class=\"dataframe\">\n",
              "  <thead>\n",
              "    <tr style=\"text-align: right;\">\n",
              "      <th></th>\n",
              "      <th>0</th>\n",
              "    </tr>\n",
              "  </thead>\n",
              "  <tbody>\n",
              "    <tr>\n",
              "      <th>Accuracy</th>\n",
              "      <td>0.860526</td>\n",
              "    </tr>\n",
              "    <tr>\n",
              "      <th>Precision</th>\n",
              "      <td>0.888104</td>\n",
              "    </tr>\n",
              "    <tr>\n",
              "      <th>Recall</th>\n",
              "      <td>0.933333</td>\n",
              "    </tr>\n",
              "    <tr>\n",
              "      <th>Specificity</th>\n",
              "      <td>0.642105</td>\n",
              "    </tr>\n",
              "    <tr>\n",
              "      <th>F1</th>\n",
              "      <td>0.909462</td>\n",
              "    </tr>\n",
              "    <tr>\n",
              "      <th>AUC</th>\n",
              "      <td>0.857895</td>\n",
              "    </tr>\n",
              "    <tr>\n",
              "      <th>MCC</th>\n",
              "      <td>0.613347</td>\n",
              "    </tr>\n",
              "  </tbody>\n",
              "</table>\n",
              "</div><br><label><b>dtype:</b> float64</label>"
            ]
          },
          "metadata": {},
          "execution_count": 37
        }
      ]
    },
    {
      "cell_type": "markdown",
      "source": [
        "## Stacking"
      ],
      "metadata": {
        "id": "SPDis0JbBSiw"
      }
    },
    {
      "cell_type": "code",
      "source": [
        "params = {\n",
        "    'knn__n_neighbors': [2, 3],\n",
        "    'svc__C': [1, 10],\n",
        "    'final_estimator__C': [1, 10],\n",
        "    'final_estimator__penalty': ['l1', 'l2']\n",
        "}\n",
        "\n",
        "results = defaultdict(list)\n",
        "\n",
        "for i in range(10):\n",
        "    print(f\"\\rProcessing iteration {i+1}/10\", end='', flush=True)\n",
        "    estimators = [\n",
        "    ('knn', KNeighborsClassifier(n_jobs=-1, algorithm='ball_tree')),\n",
        "    ('svc', SVC(probability=True, gamma='auto', random_state=42))\n",
        "    ]\n",
        "    final_estimator = LogisticRegression(solver='liblinear', random_state=42)\n",
        "    stacking_clf = StackingClassifier(estimators=estimators, final_estimator=final_estimator)\n",
        "\n",
        "    metrics = grid_search(i, StackingClassifier(estimators=estimators, final_estimator=final_estimator), params)\n",
        "    for key, value in metrics.items():\n",
        "        results[key].append(value)\n",
        "\n",
        "results = dict(results)\n",
        "summary['Stacking'] = results"
      ],
      "metadata": {
        "id": "kJL48meRCXoB",
        "colab": {
          "base_uri": "https://localhost:8080/"
        },
        "outputId": "9484f0d8-244d-47b9-92a0-0b55e20596bc"
      },
      "execution_count": null,
      "outputs": [
        {
          "output_type": "stream",
          "name": "stdout",
          "text": [
            "Processing iteration 10/10"
          ]
        }
      ]
    },
    {
      "cell_type": "code",
      "source": [
        "pd.DataFrame(summary['Stacking']).mean()"
      ],
      "metadata": {
        "colab": {
          "base_uri": "https://localhost:8080/",
          "height": 303
        },
        "id": "i4AH3ZD_Y4uT",
        "outputId": "745c2858-a391-4b7b-d303-0ff9bac21c21"
      },
      "execution_count": null,
      "outputs": [
        {
          "output_type": "execute_result",
          "data": {
            "text/plain": [
              "Accuracy       0.836842\n",
              "Precision      0.845770\n",
              "Recall         0.957895\n",
              "Specificity    0.473684\n",
              "F1             0.898082\n",
              "AUC            0.848753\n",
              "MCC            0.523574\n",
              "dtype: float64"
            ],
            "text/html": [
              "<div>\n",
              "<style scoped>\n",
              "    .dataframe tbody tr th:only-of-type {\n",
              "        vertical-align: middle;\n",
              "    }\n",
              "\n",
              "    .dataframe tbody tr th {\n",
              "        vertical-align: top;\n",
              "    }\n",
              "\n",
              "    .dataframe thead th {\n",
              "        text-align: right;\n",
              "    }\n",
              "</style>\n",
              "<table border=\"1\" class=\"dataframe\">\n",
              "  <thead>\n",
              "    <tr style=\"text-align: right;\">\n",
              "      <th></th>\n",
              "      <th>0</th>\n",
              "    </tr>\n",
              "  </thead>\n",
              "  <tbody>\n",
              "    <tr>\n",
              "      <th>Accuracy</th>\n",
              "      <td>0.836842</td>\n",
              "    </tr>\n",
              "    <tr>\n",
              "      <th>Precision</th>\n",
              "      <td>0.845770</td>\n",
              "    </tr>\n",
              "    <tr>\n",
              "      <th>Recall</th>\n",
              "      <td>0.957895</td>\n",
              "    </tr>\n",
              "    <tr>\n",
              "      <th>Specificity</th>\n",
              "      <td>0.473684</td>\n",
              "    </tr>\n",
              "    <tr>\n",
              "      <th>F1</th>\n",
              "      <td>0.898082</td>\n",
              "    </tr>\n",
              "    <tr>\n",
              "      <th>AUC</th>\n",
              "      <td>0.848753</td>\n",
              "    </tr>\n",
              "    <tr>\n",
              "      <th>MCC</th>\n",
              "      <td>0.523574</td>\n",
              "    </tr>\n",
              "  </tbody>\n",
              "</table>\n",
              "</div><br><label><b>dtype:</b> float64</label>"
            ]
          },
          "metadata": {},
          "execution_count": 39
        }
      ]
    },
    {
      "cell_type": "markdown",
      "source": [
        "# Evaluation"
      ],
      "metadata": {
        "id": "Mi_jREPEE8Ub"
      }
    },
    {
      "cell_type": "code",
      "source": [
        "# import pickle\n",
        "\n",
        "# with open('summary_mean2.pkl', 'wb') as f:\n",
        "#     pickle.dump(summary, f)"
      ],
      "metadata": {
        "id": "2eL1gO4pY3Bz"
      },
      "execution_count": null,
      "outputs": []
    }
  ]
}